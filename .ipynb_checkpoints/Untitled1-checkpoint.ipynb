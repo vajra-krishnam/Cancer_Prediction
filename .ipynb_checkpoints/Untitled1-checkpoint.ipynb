{
 "cells": [
  {
   "cell_type": "markdown",
   "metadata": {},
   "source": [
    "# Loading the dataset:"
   ]
  },
  {
   "cell_type": "code",
   "execution_count": 1,
   "metadata": {},
   "outputs": [
    {
     "name": "stderr",
     "output_type": "stream",
     "text": [
      "C:\\Users\\vajrak\\Anaconda3\\envs\\ztdl\\lib\\site-packages\\sklearn\\ensemble\\weight_boosting.py:29: DeprecationWarning: numpy.core.umath_tests is an internal NumPy module and should not be imported. It will be removed in a future NumPy release.\n",
      "  from numpy.core.umath_tests import inner1d\n"
     ]
    }
   ],
   "source": [
    "import pandas as pd\n",
    "import numpy as np\n",
    "import seaborn as sns\n",
    "\n",
    "import pandas as pd\n",
    "import numpy as np\n",
    "import matplotlib.pyplot as plt\n",
    "%matplotlib inline\n",
    "from IPython.display import display\n",
    "pd.options.display.max_columns = None\n",
    "import seaborn as sb\n",
    "from sklearn.linear_model import LogisticRegression\n",
    "from sklearn.ensemble import RandomForestClassifier\n",
    "from sklearn import metrics\n",
    "from sklearn.preprocessing import MinMaxScaler, StandardScaler, LabelEncoder\n",
    "from sklearn.feature_selection import SelectKBest\n",
    "from sklearn.pipeline import Pipeline\n",
    "from sklearn.model_selection import train_test_split, GridSearchCV, RandomizedSearchCV\n",
    "from imblearn.over_sampling import SMOTE\n",
    "data = pd.read_excel (r'BreastCancer_Prognostic_v1.xlsx')"
   ]
  },
  {
   "cell_type": "markdown",
   "metadata": {},
   "source": [
    "# Let's do Exploratory Data Analysis:"
   ]
  },
  {
   "cell_type": "code",
   "execution_count": 2,
   "metadata": {},
   "outputs": [
    {
     "data": {
      "text/html": [
       "<div>\n",
       "<table border=\"1\" class=\"dataframe\">\n",
       "  <thead>\n",
       "    <tr style=\"text-align: right;\">\n",
       "      <th></th>\n",
       "      <th>ID</th>\n",
       "      <th>Outcome</th>\n",
       "      <th>Time</th>\n",
       "      <th>radius_mean</th>\n",
       "      <th>texture_mean</th>\n",
       "      <th>perimeter_mean</th>\n",
       "      <th>area_mean</th>\n",
       "      <th>smoothness_mean</th>\n",
       "      <th>compactness_mean</th>\n",
       "      <th>concavity_mean</th>\n",
       "      <th>concave_points_mean</th>\n",
       "      <th>symmetry_mean</th>\n",
       "      <th>fractal_dimension_mean</th>\n",
       "      <th>radius_std_dev</th>\n",
       "      <th>texture_std_dev</th>\n",
       "      <th>perimeter_std_dev</th>\n",
       "      <th>area_std_dev</th>\n",
       "      <th>smoothness_std_dev</th>\n",
       "      <th>compactness_std_dev</th>\n",
       "      <th>concavity_std_dev</th>\n",
       "      <th>concave_points_std_dev</th>\n",
       "      <th>symmetry_std_dev</th>\n",
       "      <th>fractal_dimension_std_dev</th>\n",
       "      <th>Worst_radius</th>\n",
       "      <th>Worst_texture</th>\n",
       "      <th>Worst_perimeter</th>\n",
       "      <th>Worst_area</th>\n",
       "      <th>Worst_smoothness</th>\n",
       "      <th>Worst_compactness</th>\n",
       "      <th>Worst_concavity</th>\n",
       "      <th>Worst_concave_points</th>\n",
       "      <th>Worst_symmetry</th>\n",
       "      <th>Worst_fractal_dimension</th>\n",
       "      <th>Tumor_Size</th>\n",
       "      <th>Lymph_Node_Status</th>\n",
       "    </tr>\n",
       "  </thead>\n",
       "  <tbody>\n",
       "    <tr>\n",
       "      <th>0</th>\n",
       "      <td>119513</td>\n",
       "      <td>N</td>\n",
       "      <td>31</td>\n",
       "      <td>18.02</td>\n",
       "      <td>27.60</td>\n",
       "      <td>117.50</td>\n",
       "      <td>1013.0</td>\n",
       "      <td>0.09489</td>\n",
       "      <td>0.1036</td>\n",
       "      <td>0.1086</td>\n",
       "      <td>0.07055</td>\n",
       "      <td>0.1865</td>\n",
       "      <td>0.06333</td>\n",
       "      <td>0.6249</td>\n",
       "      <td>1.8900</td>\n",
       "      <td>3.972</td>\n",
       "      <td>71.55</td>\n",
       "      <td>0.004433</td>\n",
       "      <td>0.01421</td>\n",
       "      <td>0.03233</td>\n",
       "      <td>0.009854</td>\n",
       "      <td>0.01694</td>\n",
       "      <td>0.003495</td>\n",
       "      <td>21.63</td>\n",
       "      <td>37.08</td>\n",
       "      <td>139.70</td>\n",
       "      <td>1436.0</td>\n",
       "      <td>0.1195</td>\n",
       "      <td>0.1926</td>\n",
       "      <td>0.3140</td>\n",
       "      <td>0.1170</td>\n",
       "      <td>0.2677</td>\n",
       "      <td>0.08113</td>\n",
       "      <td>5.0</td>\n",
       "      <td>5</td>\n",
       "    </tr>\n",
       "    <tr>\n",
       "      <th>1</th>\n",
       "      <td>8423</td>\n",
       "      <td>N</td>\n",
       "      <td>61</td>\n",
       "      <td>17.99</td>\n",
       "      <td>10.38</td>\n",
       "      <td>122.80</td>\n",
       "      <td>1001.0</td>\n",
       "      <td>0.11840</td>\n",
       "      <td>0.2776</td>\n",
       "      <td>0.3001</td>\n",
       "      <td>0.14710</td>\n",
       "      <td>0.2419</td>\n",
       "      <td>0.07871</td>\n",
       "      <td>1.0950</td>\n",
       "      <td>0.9053</td>\n",
       "      <td>8.589</td>\n",
       "      <td>153.40</td>\n",
       "      <td>0.006399</td>\n",
       "      <td>0.04904</td>\n",
       "      <td>0.05373</td>\n",
       "      <td>0.015870</td>\n",
       "      <td>0.03003</td>\n",
       "      <td>0.006193</td>\n",
       "      <td>25.38</td>\n",
       "      <td>17.33</td>\n",
       "      <td>184.60</td>\n",
       "      <td>2019.0</td>\n",
       "      <td>0.1622</td>\n",
       "      <td>0.6656</td>\n",
       "      <td>0.7119</td>\n",
       "      <td>0.2654</td>\n",
       "      <td>0.4601</td>\n",
       "      <td>0.11890</td>\n",
       "      <td>3.0</td>\n",
       "      <td>2</td>\n",
       "    </tr>\n",
       "    <tr>\n",
       "      <th>2</th>\n",
       "      <td>842517</td>\n",
       "      <td>N</td>\n",
       "      <td>116</td>\n",
       "      <td>21.37</td>\n",
       "      <td>17.44</td>\n",
       "      <td>137.50</td>\n",
       "      <td>1373.0</td>\n",
       "      <td>0.08836</td>\n",
       "      <td>0.1189</td>\n",
       "      <td>0.1255</td>\n",
       "      <td>0.08180</td>\n",
       "      <td>0.2333</td>\n",
       "      <td>0.06010</td>\n",
       "      <td>0.5854</td>\n",
       "      <td>0.6105</td>\n",
       "      <td>3.928</td>\n",
       "      <td>82.15</td>\n",
       "      <td>0.006167</td>\n",
       "      <td>0.03449</td>\n",
       "      <td>0.03300</td>\n",
       "      <td>0.018050</td>\n",
       "      <td>0.03094</td>\n",
       "      <td>0.005039</td>\n",
       "      <td>24.90</td>\n",
       "      <td>20.98</td>\n",
       "      <td>159.10</td>\n",
       "      <td>1949.0</td>\n",
       "      <td>0.1188</td>\n",
       "      <td>0.3449</td>\n",
       "      <td>0.3414</td>\n",
       "      <td>0.2032</td>\n",
       "      <td>0.4334</td>\n",
       "      <td>0.09067</td>\n",
       "      <td>2.5</td>\n",
       "      <td>0</td>\n",
       "    </tr>\n",
       "    <tr>\n",
       "      <th>3</th>\n",
       "      <td>843483</td>\n",
       "      <td>N</td>\n",
       "      <td>123</td>\n",
       "      <td>11.42</td>\n",
       "      <td>20.38</td>\n",
       "      <td>77.58</td>\n",
       "      <td>386.1</td>\n",
       "      <td>0.14250</td>\n",
       "      <td>0.2839</td>\n",
       "      <td>0.2414</td>\n",
       "      <td>0.10520</td>\n",
       "      <td>0.2597</td>\n",
       "      <td>0.09744</td>\n",
       "      <td>0.4956</td>\n",
       "      <td>1.1560</td>\n",
       "      <td>3.445</td>\n",
       "      <td>27.23</td>\n",
       "      <td>0.009110</td>\n",
       "      <td>0.07458</td>\n",
       "      <td>0.05661</td>\n",
       "      <td>0.018670</td>\n",
       "      <td>0.05963</td>\n",
       "      <td>0.009208</td>\n",
       "      <td>14.91</td>\n",
       "      <td>26.50</td>\n",
       "      <td>98.87</td>\n",
       "      <td>567.7</td>\n",
       "      <td>0.2098</td>\n",
       "      <td>0.8663</td>\n",
       "      <td>0.6869</td>\n",
       "      <td>0.2575</td>\n",
       "      <td>0.6638</td>\n",
       "      <td>0.17300</td>\n",
       "      <td>2.0</td>\n",
       "      <td>0</td>\n",
       "    </tr>\n",
       "    <tr>\n",
       "      <th>4</th>\n",
       "      <td>843584</td>\n",
       "      <td>R</td>\n",
       "      <td>27</td>\n",
       "      <td>20.29</td>\n",
       "      <td>14.34</td>\n",
       "      <td>135.10</td>\n",
       "      <td>1297.0</td>\n",
       "      <td>0.10030</td>\n",
       "      <td>0.1328</td>\n",
       "      <td>0.1980</td>\n",
       "      <td>0.10430</td>\n",
       "      <td>0.1809</td>\n",
       "      <td>0.05883</td>\n",
       "      <td>0.7572</td>\n",
       "      <td>0.7813</td>\n",
       "      <td>5.438</td>\n",
       "      <td>94.44</td>\n",
       "      <td>0.011490</td>\n",
       "      <td>0.02461</td>\n",
       "      <td>0.05688</td>\n",
       "      <td>0.018850</td>\n",
       "      <td>0.01756</td>\n",
       "      <td>0.005115</td>\n",
       "      <td>22.54</td>\n",
       "      <td>16.67</td>\n",
       "      <td>152.20</td>\n",
       "      <td>1575.0</td>\n",
       "      <td>0.1374</td>\n",
       "      <td>0.2050</td>\n",
       "      <td>0.4000</td>\n",
       "      <td>0.1625</td>\n",
       "      <td>0.2364</td>\n",
       "      <td>0.07678</td>\n",
       "      <td>3.5</td>\n",
       "      <td>0</td>\n",
       "    </tr>\n",
       "  </tbody>\n",
       "</table>\n",
       "</div>"
      ],
      "text/plain": [
       "       ID Outcome  Time  radius_mean  texture_mean  perimeter_mean  area_mean  \\\n",
       "0  119513       N    31        18.02         27.60          117.50     1013.0   \n",
       "1    8423       N    61        17.99         10.38          122.80     1001.0   \n",
       "2  842517       N   116        21.37         17.44          137.50     1373.0   \n",
       "3  843483       N   123        11.42         20.38           77.58      386.1   \n",
       "4  843584       R    27        20.29         14.34          135.10     1297.0   \n",
       "\n",
       "   smoothness_mean  compactness_mean  concavity_mean  concave_points_mean  \\\n",
       "0          0.09489            0.1036          0.1086              0.07055   \n",
       "1          0.11840            0.2776          0.3001              0.14710   \n",
       "2          0.08836            0.1189          0.1255              0.08180   \n",
       "3          0.14250            0.2839          0.2414              0.10520   \n",
       "4          0.10030            0.1328          0.1980              0.10430   \n",
       "\n",
       "   symmetry_mean  fractal_dimension_mean  radius_std_dev  texture_std_dev  \\\n",
       "0         0.1865                 0.06333          0.6249           1.8900   \n",
       "1         0.2419                 0.07871          1.0950           0.9053   \n",
       "2         0.2333                 0.06010          0.5854           0.6105   \n",
       "3         0.2597                 0.09744          0.4956           1.1560   \n",
       "4         0.1809                 0.05883          0.7572           0.7813   \n",
       "\n",
       "   perimeter_std_dev  area_std_dev  smoothness_std_dev  compactness_std_dev  \\\n",
       "0              3.972         71.55            0.004433              0.01421   \n",
       "1              8.589        153.40            0.006399              0.04904   \n",
       "2              3.928         82.15            0.006167              0.03449   \n",
       "3              3.445         27.23            0.009110              0.07458   \n",
       "4              5.438         94.44            0.011490              0.02461   \n",
       "\n",
       "   concavity_std_dev  concave_points_std_dev  symmetry_std_dev  \\\n",
       "0            0.03233                0.009854           0.01694   \n",
       "1            0.05373                0.015870           0.03003   \n",
       "2            0.03300                0.018050           0.03094   \n",
       "3            0.05661                0.018670           0.05963   \n",
       "4            0.05688                0.018850           0.01756   \n",
       "\n",
       "   fractal_dimension_std_dev  Worst_radius  Worst_texture  Worst_perimeter  \\\n",
       "0                   0.003495         21.63          37.08           139.70   \n",
       "1                   0.006193         25.38          17.33           184.60   \n",
       "2                   0.005039         24.90          20.98           159.10   \n",
       "3                   0.009208         14.91          26.50            98.87   \n",
       "4                   0.005115         22.54          16.67           152.20   \n",
       "\n",
       "   Worst_area  Worst_smoothness  Worst_compactness  Worst_concavity  \\\n",
       "0      1436.0            0.1195             0.1926           0.3140   \n",
       "1      2019.0            0.1622             0.6656           0.7119   \n",
       "2      1949.0            0.1188             0.3449           0.3414   \n",
       "3       567.7            0.2098             0.8663           0.6869   \n",
       "4      1575.0            0.1374             0.2050           0.4000   \n",
       "\n",
       "   Worst_concave_points  Worst_symmetry  Worst_fractal_dimension  Tumor_Size  \\\n",
       "0                0.1170          0.2677                  0.08113         5.0   \n",
       "1                0.2654          0.4601                  0.11890         3.0   \n",
       "2                0.2032          0.4334                  0.09067         2.5   \n",
       "3                0.2575          0.6638                  0.17300         2.0   \n",
       "4                0.1625          0.2364                  0.07678         3.5   \n",
       "\n",
       "  Lymph_Node_Status  \n",
       "0                 5  \n",
       "1                 2  \n",
       "2                 0  \n",
       "3                 0  \n",
       "4                 0  "
      ]
     },
     "execution_count": 2,
     "metadata": {},
     "output_type": "execute_result"
    }
   ],
   "source": [
    "data.head()"
   ]
  },
  {
   "cell_type": "code",
   "execution_count": 3,
   "metadata": {},
   "outputs": [
    {
     "data": {
      "text/plain": [
       "(198, 35)"
      ]
     },
     "execution_count": 3,
     "metadata": {},
     "output_type": "execute_result"
    }
   ],
   "source": [
    "data.shape"
   ]
  },
  {
   "cell_type": "code",
   "execution_count": 4,
   "metadata": {},
   "outputs": [
    {
     "data": {
      "text/plain": [
       "N    151\n",
       "R     47\n",
       "Name: Outcome, dtype: int64"
      ]
     },
     "execution_count": 4,
     "metadata": {},
     "output_type": "execute_result"
    }
   ],
   "source": [
    "data['Outcome'].value_counts()"
   ]
  },
  {
   "cell_type": "code",
   "execution_count": 5,
   "metadata": {},
   "outputs": [],
   "source": [
    "# data.info"
   ]
  },
  {
   "cell_type": "code",
   "execution_count": 6,
   "metadata": {},
   "outputs": [],
   "source": [
    "data.drop(\"ID\",axis=1,inplace=True)"
   ]
  },
  {
   "cell_type": "code",
   "execution_count": 7,
   "metadata": {},
   "outputs": [
    {
     "data": {
      "text/plain": [
       "array([0, 0, 0, 0, 1, 1, 0, 1, 0, 0, 0, 0, 0, 1, 0, 1, 0, 1, 0, 0, 0, 0,\n",
       "       0, 0, 0, 0, 0, 0, 0, 0, 0, 0, 0, 0, 1, 0, 0, 1, 0, 1, 1, 0, 1, 1,\n",
       "       0, 0, 1, 0, 1, 0, 1, 0, 0, 0, 0, 0, 1, 0, 0, 1, 0, 0, 1, 0, 0, 0,\n",
       "       0, 1, 0, 1, 0, 0, 0, 0, 0, 1, 0, 0, 0, 0, 0, 1, 0, 0, 0, 0, 0, 0,\n",
       "       1, 0, 0, 0, 0, 0, 0, 0, 0, 0, 0, 0, 0, 0, 0, 0, 0, 1, 0, 0, 0, 1,\n",
       "       1, 0, 1, 0, 1, 0, 0, 0, 0, 0, 1, 0, 0, 0, 0, 1, 0, 0, 1, 1, 0, 1,\n",
       "       1, 0, 0, 1, 0, 0, 0, 0, 0, 0, 0, 1, 0, 1, 0, 1, 0, 0, 1, 0, 1, 0,\n",
       "       0, 1, 0, 1, 0, 1, 0, 1, 0, 0, 0, 0, 0, 0, 0, 0, 0, 0, 0, 0, 0, 0,\n",
       "       1, 1, 0, 0, 0, 0, 0, 0, 0, 0, 0, 0, 0, 0, 0, 0, 0, 0, 0, 0, 1, 0],\n",
       "      dtype=int64)"
      ]
     },
     "execution_count": 7,
     "metadata": {},
     "output_type": "execute_result"
    }
   ],
   "source": [
    "from sklearn.preprocessing import LabelEncoder\n",
    "le=LabelEncoder()\n",
    "le.fit_transform(data['Outcome'])"
   ]
  },
  {
   "cell_type": "code",
   "execution_count": 8,
   "metadata": {},
   "outputs": [
    {
     "data": {
      "text/html": [
       "<div>\n",
       "<table border=\"1\" class=\"dataframe\">\n",
       "  <thead>\n",
       "    <tr style=\"text-align: right;\">\n",
       "      <th></th>\n",
       "      <th>Outcome</th>\n",
       "      <th>Time</th>\n",
       "      <th>radius_mean</th>\n",
       "      <th>texture_mean</th>\n",
       "      <th>perimeter_mean</th>\n",
       "      <th>area_mean</th>\n",
       "      <th>smoothness_mean</th>\n",
       "      <th>compactness_mean</th>\n",
       "      <th>concavity_mean</th>\n",
       "      <th>concave_points_mean</th>\n",
       "      <th>symmetry_mean</th>\n",
       "      <th>fractal_dimension_mean</th>\n",
       "      <th>radius_std_dev</th>\n",
       "      <th>texture_std_dev</th>\n",
       "      <th>perimeter_std_dev</th>\n",
       "      <th>area_std_dev</th>\n",
       "      <th>smoothness_std_dev</th>\n",
       "      <th>compactness_std_dev</th>\n",
       "      <th>concavity_std_dev</th>\n",
       "      <th>concave_points_std_dev</th>\n",
       "      <th>symmetry_std_dev</th>\n",
       "      <th>fractal_dimension_std_dev</th>\n",
       "      <th>Worst_radius</th>\n",
       "      <th>Worst_texture</th>\n",
       "      <th>Worst_perimeter</th>\n",
       "      <th>Worst_area</th>\n",
       "      <th>Worst_smoothness</th>\n",
       "      <th>Worst_compactness</th>\n",
       "      <th>Worst_concavity</th>\n",
       "      <th>Worst_concave_points</th>\n",
       "      <th>Worst_symmetry</th>\n",
       "      <th>Worst_fractal_dimension</th>\n",
       "      <th>Tumor_Size</th>\n",
       "      <th>Lymph_Node_Status</th>\n",
       "    </tr>\n",
       "  </thead>\n",
       "  <tbody>\n",
       "    <tr>\n",
       "      <th>0</th>\n",
       "      <td>0</td>\n",
       "      <td>31</td>\n",
       "      <td>18.02</td>\n",
       "      <td>27.60</td>\n",
       "      <td>117.50</td>\n",
       "      <td>1013.0</td>\n",
       "      <td>0.09489</td>\n",
       "      <td>0.1036</td>\n",
       "      <td>0.1086</td>\n",
       "      <td>0.07055</td>\n",
       "      <td>0.1865</td>\n",
       "      <td>0.06333</td>\n",
       "      <td>0.6249</td>\n",
       "      <td>1.8900</td>\n",
       "      <td>3.972</td>\n",
       "      <td>71.55</td>\n",
       "      <td>0.004433</td>\n",
       "      <td>0.01421</td>\n",
       "      <td>0.03233</td>\n",
       "      <td>0.009854</td>\n",
       "      <td>0.01694</td>\n",
       "      <td>0.003495</td>\n",
       "      <td>21.63</td>\n",
       "      <td>37.08</td>\n",
       "      <td>139.70</td>\n",
       "      <td>1436.0</td>\n",
       "      <td>0.1195</td>\n",
       "      <td>0.1926</td>\n",
       "      <td>0.3140</td>\n",
       "      <td>0.1170</td>\n",
       "      <td>0.2677</td>\n",
       "      <td>0.08113</td>\n",
       "      <td>5.0</td>\n",
       "      <td>5</td>\n",
       "    </tr>\n",
       "    <tr>\n",
       "      <th>1</th>\n",
       "      <td>0</td>\n",
       "      <td>61</td>\n",
       "      <td>17.99</td>\n",
       "      <td>10.38</td>\n",
       "      <td>122.80</td>\n",
       "      <td>1001.0</td>\n",
       "      <td>0.11840</td>\n",
       "      <td>0.2776</td>\n",
       "      <td>0.3001</td>\n",
       "      <td>0.14710</td>\n",
       "      <td>0.2419</td>\n",
       "      <td>0.07871</td>\n",
       "      <td>1.0950</td>\n",
       "      <td>0.9053</td>\n",
       "      <td>8.589</td>\n",
       "      <td>153.40</td>\n",
       "      <td>0.006399</td>\n",
       "      <td>0.04904</td>\n",
       "      <td>0.05373</td>\n",
       "      <td>0.015870</td>\n",
       "      <td>0.03003</td>\n",
       "      <td>0.006193</td>\n",
       "      <td>25.38</td>\n",
       "      <td>17.33</td>\n",
       "      <td>184.60</td>\n",
       "      <td>2019.0</td>\n",
       "      <td>0.1622</td>\n",
       "      <td>0.6656</td>\n",
       "      <td>0.7119</td>\n",
       "      <td>0.2654</td>\n",
       "      <td>0.4601</td>\n",
       "      <td>0.11890</td>\n",
       "      <td>3.0</td>\n",
       "      <td>2</td>\n",
       "    </tr>\n",
       "    <tr>\n",
       "      <th>2</th>\n",
       "      <td>0</td>\n",
       "      <td>116</td>\n",
       "      <td>21.37</td>\n",
       "      <td>17.44</td>\n",
       "      <td>137.50</td>\n",
       "      <td>1373.0</td>\n",
       "      <td>0.08836</td>\n",
       "      <td>0.1189</td>\n",
       "      <td>0.1255</td>\n",
       "      <td>0.08180</td>\n",
       "      <td>0.2333</td>\n",
       "      <td>0.06010</td>\n",
       "      <td>0.5854</td>\n",
       "      <td>0.6105</td>\n",
       "      <td>3.928</td>\n",
       "      <td>82.15</td>\n",
       "      <td>0.006167</td>\n",
       "      <td>0.03449</td>\n",
       "      <td>0.03300</td>\n",
       "      <td>0.018050</td>\n",
       "      <td>0.03094</td>\n",
       "      <td>0.005039</td>\n",
       "      <td>24.90</td>\n",
       "      <td>20.98</td>\n",
       "      <td>159.10</td>\n",
       "      <td>1949.0</td>\n",
       "      <td>0.1188</td>\n",
       "      <td>0.3449</td>\n",
       "      <td>0.3414</td>\n",
       "      <td>0.2032</td>\n",
       "      <td>0.4334</td>\n",
       "      <td>0.09067</td>\n",
       "      <td>2.5</td>\n",
       "      <td>0</td>\n",
       "    </tr>\n",
       "    <tr>\n",
       "      <th>3</th>\n",
       "      <td>0</td>\n",
       "      <td>123</td>\n",
       "      <td>11.42</td>\n",
       "      <td>20.38</td>\n",
       "      <td>77.58</td>\n",
       "      <td>386.1</td>\n",
       "      <td>0.14250</td>\n",
       "      <td>0.2839</td>\n",
       "      <td>0.2414</td>\n",
       "      <td>0.10520</td>\n",
       "      <td>0.2597</td>\n",
       "      <td>0.09744</td>\n",
       "      <td>0.4956</td>\n",
       "      <td>1.1560</td>\n",
       "      <td>3.445</td>\n",
       "      <td>27.23</td>\n",
       "      <td>0.009110</td>\n",
       "      <td>0.07458</td>\n",
       "      <td>0.05661</td>\n",
       "      <td>0.018670</td>\n",
       "      <td>0.05963</td>\n",
       "      <td>0.009208</td>\n",
       "      <td>14.91</td>\n",
       "      <td>26.50</td>\n",
       "      <td>98.87</td>\n",
       "      <td>567.7</td>\n",
       "      <td>0.2098</td>\n",
       "      <td>0.8663</td>\n",
       "      <td>0.6869</td>\n",
       "      <td>0.2575</td>\n",
       "      <td>0.6638</td>\n",
       "      <td>0.17300</td>\n",
       "      <td>2.0</td>\n",
       "      <td>0</td>\n",
       "    </tr>\n",
       "    <tr>\n",
       "      <th>4</th>\n",
       "      <td>1</td>\n",
       "      <td>27</td>\n",
       "      <td>20.29</td>\n",
       "      <td>14.34</td>\n",
       "      <td>135.10</td>\n",
       "      <td>1297.0</td>\n",
       "      <td>0.10030</td>\n",
       "      <td>0.1328</td>\n",
       "      <td>0.1980</td>\n",
       "      <td>0.10430</td>\n",
       "      <td>0.1809</td>\n",
       "      <td>0.05883</td>\n",
       "      <td>0.7572</td>\n",
       "      <td>0.7813</td>\n",
       "      <td>5.438</td>\n",
       "      <td>94.44</td>\n",
       "      <td>0.011490</td>\n",
       "      <td>0.02461</td>\n",
       "      <td>0.05688</td>\n",
       "      <td>0.018850</td>\n",
       "      <td>0.01756</td>\n",
       "      <td>0.005115</td>\n",
       "      <td>22.54</td>\n",
       "      <td>16.67</td>\n",
       "      <td>152.20</td>\n",
       "      <td>1575.0</td>\n",
       "      <td>0.1374</td>\n",
       "      <td>0.2050</td>\n",
       "      <td>0.4000</td>\n",
       "      <td>0.1625</td>\n",
       "      <td>0.2364</td>\n",
       "      <td>0.07678</td>\n",
       "      <td>3.5</td>\n",
       "      <td>0</td>\n",
       "    </tr>\n",
       "  </tbody>\n",
       "</table>\n",
       "</div>"
      ],
      "text/plain": [
       "   Outcome  Time  radius_mean  texture_mean  perimeter_mean  area_mean  \\\n",
       "0        0    31        18.02         27.60          117.50     1013.0   \n",
       "1        0    61        17.99         10.38          122.80     1001.0   \n",
       "2        0   116        21.37         17.44          137.50     1373.0   \n",
       "3        0   123        11.42         20.38           77.58      386.1   \n",
       "4        1    27        20.29         14.34          135.10     1297.0   \n",
       "\n",
       "   smoothness_mean  compactness_mean  concavity_mean  concave_points_mean  \\\n",
       "0          0.09489            0.1036          0.1086              0.07055   \n",
       "1          0.11840            0.2776          0.3001              0.14710   \n",
       "2          0.08836            0.1189          0.1255              0.08180   \n",
       "3          0.14250            0.2839          0.2414              0.10520   \n",
       "4          0.10030            0.1328          0.1980              0.10430   \n",
       "\n",
       "   symmetry_mean  fractal_dimension_mean  radius_std_dev  texture_std_dev  \\\n",
       "0         0.1865                 0.06333          0.6249           1.8900   \n",
       "1         0.2419                 0.07871          1.0950           0.9053   \n",
       "2         0.2333                 0.06010          0.5854           0.6105   \n",
       "3         0.2597                 0.09744          0.4956           1.1560   \n",
       "4         0.1809                 0.05883          0.7572           0.7813   \n",
       "\n",
       "   perimeter_std_dev  area_std_dev  smoothness_std_dev  compactness_std_dev  \\\n",
       "0              3.972         71.55            0.004433              0.01421   \n",
       "1              8.589        153.40            0.006399              0.04904   \n",
       "2              3.928         82.15            0.006167              0.03449   \n",
       "3              3.445         27.23            0.009110              0.07458   \n",
       "4              5.438         94.44            0.011490              0.02461   \n",
       "\n",
       "   concavity_std_dev  concave_points_std_dev  symmetry_std_dev  \\\n",
       "0            0.03233                0.009854           0.01694   \n",
       "1            0.05373                0.015870           0.03003   \n",
       "2            0.03300                0.018050           0.03094   \n",
       "3            0.05661                0.018670           0.05963   \n",
       "4            0.05688                0.018850           0.01756   \n",
       "\n",
       "   fractal_dimension_std_dev  Worst_radius  Worst_texture  Worst_perimeter  \\\n",
       "0                   0.003495         21.63          37.08           139.70   \n",
       "1                   0.006193         25.38          17.33           184.60   \n",
       "2                   0.005039         24.90          20.98           159.10   \n",
       "3                   0.009208         14.91          26.50            98.87   \n",
       "4                   0.005115         22.54          16.67           152.20   \n",
       "\n",
       "   Worst_area  Worst_smoothness  Worst_compactness  Worst_concavity  \\\n",
       "0      1436.0            0.1195             0.1926           0.3140   \n",
       "1      2019.0            0.1622             0.6656           0.7119   \n",
       "2      1949.0            0.1188             0.3449           0.3414   \n",
       "3       567.7            0.2098             0.8663           0.6869   \n",
       "4      1575.0            0.1374             0.2050           0.4000   \n",
       "\n",
       "   Worst_concave_points  Worst_symmetry  Worst_fractal_dimension  Tumor_Size  \\\n",
       "0                0.1170          0.2677                  0.08113         5.0   \n",
       "1                0.2654          0.4601                  0.11890         3.0   \n",
       "2                0.2032          0.4334                  0.09067         2.5   \n",
       "3                0.2575          0.6638                  0.17300         2.0   \n",
       "4                0.1625          0.2364                  0.07678         3.5   \n",
       "\n",
       "  Lymph_Node_Status  \n",
       "0                 5  \n",
       "1                 2  \n",
       "2                 0  \n",
       "3                 0  \n",
       "4                 0  "
      ]
     },
     "execution_count": 8,
     "metadata": {},
     "output_type": "execute_result"
    }
   ],
   "source": [
    "data['Outcome']=le.fit_transform(data['Outcome'])\n",
    "data.head()"
   ]
  },
  {
   "cell_type": "code",
   "execution_count": 9,
   "metadata": {},
   "outputs": [
    {
     "name": "stdout",
     "output_type": "stream",
     "text": [
      "Lymph_Node_Status 4\n"
     ]
    }
   ],
   "source": [
    "for col in data.columns:\n",
    "    if data[col].dtype == object:\n",
    "         print(col,data[col][data[col] == '?'].count())"
   ]
  },
  {
   "cell_type": "code",
   "execution_count": 10,
   "metadata": {},
   "outputs": [
    {
     "data": {
      "text/plain": [
       "0       5.0\n",
       "1       2.0\n",
       "2       0.0\n",
       "3       0.0\n",
       "4       0.0\n",
       "5       0.0\n",
       "6       NaN\n",
       "7      10.0\n",
       "8       1.0\n",
       "9      20.0\n",
       "10      0.0\n",
       "11      0.0\n",
       "12      0.0\n",
       "13      6.0\n",
       "14      0.0\n",
       "15      1.0\n",
       "16      0.0\n",
       "17      1.0\n",
       "18      0.0\n",
       "19      1.0\n",
       "20      0.0\n",
       "21     13.0\n",
       "22      0.0\n",
       "23      0.0\n",
       "24      2.0\n",
       "25      1.0\n",
       "26      0.0\n",
       "27      0.0\n",
       "28      NaN\n",
       "29     13.0\n",
       "       ... \n",
       "168     0.0\n",
       "169     0.0\n",
       "170     0.0\n",
       "171     0.0\n",
       "172     1.0\n",
       "173     1.0\n",
       "174     2.0\n",
       "175     0.0\n",
       "176     9.0\n",
       "177     4.0\n",
       "178     0.0\n",
       "179     2.0\n",
       "180     0.0\n",
       "181     0.0\n",
       "182     4.0\n",
       "183     0.0\n",
       "184     0.0\n",
       "185     0.0\n",
       "186     0.0\n",
       "187     1.0\n",
       "188     7.0\n",
       "189     2.0\n",
       "190     0.0\n",
       "191     1.0\n",
       "192    21.0\n",
       "193     2.0\n",
       "194     0.0\n",
       "195     0.0\n",
       "196     NaN\n",
       "197     0.0\n",
       "Name: Lymph_Node_Status, dtype: float64"
      ]
     },
     "execution_count": 10,
     "metadata": {},
     "output_type": "execute_result"
    }
   ],
   "source": [
    "import numpy as np\n",
    "data=data.replace('?', np.NaN)\n",
    "data['Lymph_Node_Status']"
   ]
  },
  {
   "cell_type": "code",
   "execution_count": 11,
   "metadata": {},
   "outputs": [
    {
     "name": "stdout",
     "output_type": "stream",
     "text": [
      "3.211340206185567\n"
     ]
    }
   ],
   "source": [
    "mean_val = pd.to_numeric(data['Lymph_Node_Status'], errors='coerce').mean()\n",
    "print(mean_val)"
   ]
  },
  {
   "cell_type": "code",
   "execution_count": 12,
   "metadata": {},
   "outputs": [],
   "source": [
    "data=data.fillna(data.mean())"
   ]
  },
  {
   "cell_type": "code",
   "execution_count": 13,
   "metadata": {},
   "outputs": [
    {
     "data": {
      "text/plain": [
       "0       5.00000\n",
       "1       2.00000\n",
       "2       0.00000\n",
       "3       0.00000\n",
       "4       0.00000\n",
       "5       0.00000\n",
       "6       3.21134\n",
       "7      10.00000\n",
       "8       1.00000\n",
       "9      20.00000\n",
       "10      0.00000\n",
       "11      0.00000\n",
       "12      0.00000\n",
       "13      6.00000\n",
       "14      0.00000\n",
       "15      1.00000\n",
       "16      0.00000\n",
       "17      1.00000\n",
       "18      0.00000\n",
       "19      1.00000\n",
       "20      0.00000\n",
       "21     13.00000\n",
       "22      0.00000\n",
       "23      0.00000\n",
       "24      2.00000\n",
       "25      1.00000\n",
       "26      0.00000\n",
       "27      0.00000\n",
       "28      3.21134\n",
       "29     13.00000\n",
       "         ...   \n",
       "168     0.00000\n",
       "169     0.00000\n",
       "170     0.00000\n",
       "171     0.00000\n",
       "172     1.00000\n",
       "173     1.00000\n",
       "174     2.00000\n",
       "175     0.00000\n",
       "176     9.00000\n",
       "177     4.00000\n",
       "178     0.00000\n",
       "179     2.00000\n",
       "180     0.00000\n",
       "181     0.00000\n",
       "182     4.00000\n",
       "183     0.00000\n",
       "184     0.00000\n",
       "185     0.00000\n",
       "186     0.00000\n",
       "187     1.00000\n",
       "188     7.00000\n",
       "189     2.00000\n",
       "190     0.00000\n",
       "191     1.00000\n",
       "192    21.00000\n",
       "193     2.00000\n",
       "194     0.00000\n",
       "195     0.00000\n",
       "196     3.21134\n",
       "197     0.00000\n",
       "Name: Lymph_Node_Status, dtype: float64"
      ]
     },
     "execution_count": 13,
     "metadata": {},
     "output_type": "execute_result"
    }
   ],
   "source": [
    "data['Lymph_Node_Status']"
   ]
  },
  {
   "cell_type": "code",
   "execution_count": 14,
   "metadata": {},
   "outputs": [],
   "source": [
    "X=data.drop(['Outcome'],axis=1)\n",
    "y=data['Outcome']"
   ]
  },
  {
   "cell_type": "code",
   "execution_count": 15,
   "metadata": {},
   "outputs": [
    {
     "data": {
      "text/plain": [
       "(47, 32)"
      ]
     },
     "execution_count": 15,
     "metadata": {},
     "output_type": "execute_result"
    }
   ],
   "source": [
    "data1 = data[data.Outcome==1]\n",
    "X1=data1.drop(['Time','Outcome'],axis=1)\n",
    "Y1=data1['Time']\n",
    "X1.shape"
   ]
  },
  {
   "cell_type": "code",
   "execution_count": 16,
   "metadata": {},
   "outputs": [],
   "source": [
    "from sklearn.model_selection import train_test_split\n",
    "X1_train,X1_test,Y1_train,Y1_test=train_test_split(X1,Y1,test_size=0.1,random_state=123)\n"
   ]
  },
  {
   "cell_type": "code",
   "execution_count": 17,
   "metadata": {},
   "outputs": [
    {
     "data": {
      "text/plain": [
       "array([15.       , 15.       , 15.       , 14.9999975, 15.       ])"
      ]
     },
     "execution_count": 17,
     "metadata": {},
     "output_type": "execute_result"
    }
   ],
   "source": [
    "from sklearn.svm import SVR\n",
    "svr_model=SVR()\n",
    "svr_model.fit(X1_train,Y1_train)\n",
    "Y1_predict=svr_model.predict(X1_test)\n",
    "Y1_predict"
   ]
  },
  {
   "cell_type": "code",
   "execution_count": 18,
   "metadata": {},
   "outputs": [
    {
     "name": "stdout",
     "output_type": "stream",
     "text": [
      "20.054925306590842\n"
     ]
    }
   ],
   "source": [
    "from sklearn.metrics import mean_squared_error\n",
    "\n",
    "from math import sqrt\n",
    "\n",
    "rmse = sqrt(mean_squared_error(Y1_test,Y1_predict))\n",
    "\n",
    "print(rmse)"
   ]
  },
  {
   "cell_type": "code",
   "execution_count": 19,
   "metadata": {},
   "outputs": [],
   "source": [
    "import numpy as np\n",
    "from sklearn.linear_model import LinearRegression"
   ]
  },
  {
   "cell_type": "code",
   "execution_count": 20,
   "metadata": {},
   "outputs": [],
   "source": [
    "reg = LinearRegression().fit(X1_train,Y1_train)"
   ]
  },
  {
   "cell_type": "code",
   "execution_count": 21,
   "metadata": {},
   "outputs": [
    {
     "data": {
      "text/plain": [
       "array([37.95476517, 95.2898317 , 27.99903826, 46.81649404, 23.44999786])"
      ]
     },
     "execution_count": 21,
     "metadata": {},
     "output_type": "execute_result"
    }
   ],
   "source": [
    "Y1_predictreg=reg.predict(X1_test)\n",
    "Y1_predictreg"
   ]
  },
  {
   "cell_type": "code",
   "execution_count": 22,
   "metadata": {},
   "outputs": [
    {
     "name": "stdout",
     "output_type": "stream",
     "text": [
      "35.76465658937344\n"
     ]
    }
   ],
   "source": [
    "from sklearn.metrics import mean_squared_error\n",
    "\n",
    "from math import sqrt\n",
    "\n",
    "rmse = sqrt(mean_squared_error(Y1_test,Y1_predictreg))\n",
    "\n",
    "print(rmse)"
   ]
  },
  {
   "cell_type": "code",
   "execution_count": 23,
   "metadata": {},
   "outputs": [
    {
     "data": {
      "text/plain": [
       "(138, 33)"
      ]
     },
     "execution_count": 23,
     "metadata": {},
     "output_type": "execute_result"
    }
   ],
   "source": [
    "from sklearn.model_selection import train_test_split\n",
    "X_train,X_test,y_train,y_test=train_test_split(X,y,test_size=0.3,random_state=123)\n",
    "X_train.shape"
   ]
  },
  {
   "cell_type": "code",
   "execution_count": 24,
   "metadata": {},
   "outputs": [],
   "source": [
    "from sklearn.preprocessing import StandardScaler\n",
    "standscal=StandardScaler()\n",
    "X_train=standscal.fit_transform(X_train)\n",
    "X_test=standscal.fit_transform(X_test)"
   ]
  },
  {
   "cell_type": "code",
   "execution_count": 25,
   "metadata": {},
   "outputs": [
    {
     "data": {
      "text/plain": [
       "array([[42,  0],\n",
       "       [ 9,  9]])"
      ]
     },
     "execution_count": 25,
     "metadata": {},
     "output_type": "execute_result"
    }
   ],
   "source": [
    "from sklearn.linear_model import LogisticRegression\n",
    "lr=LogisticRegression()\n",
    "modellr=lr.fit(X_train,y_train)\n",
    "predictionlr=modellr.predict(X_test)\n",
    "from sklearn.metrics import confusion_matrix,accuracy_score\n",
    "cm=confusion_matrix(y_test,predictionlr)\n",
    "cm"
   ]
  },
  {
   "cell_type": "code",
   "execution_count": 26,
   "metadata": {},
   "outputs": [
    {
     "name": "stdout",
     "output_type": "stream",
     "text": [
      "Accuracy:  0.85\n",
      "f1_score:  0.6666666666666666\n"
     ]
    }
   ],
   "source": [
    "from sklearn.metrics import f1_score\n",
    "print('Accuracy: ',accuracy_score(y_test,predictionlr))\n",
    "print('f1_score: ',f1_score(y_test,predictionlr, average='binary'))"
   ]
  },
  {
   "cell_type": "code",
   "execution_count": 143,
   "metadata": {},
   "outputs": [],
   "source": [
    "import warnings\n",
    "from matplotlib import pyplot\n",
    "from sklearn.model_selection import train_test_split, cross_val_score\n",
    "from sklearn.model_selection import KFold, StratifiedKFold\n",
    "from sklearn.metrics import confusion_matrix, accuracy_score, classification_report\n",
    "from sklearn.linear_model import LogisticRegression\n",
    "from sklearn.tree import DecisionTreeClassifier\n",
    "from sklearn.ensemble import RandomForestClassifier\n",
    "from sklearn.neighbors import KNeighborsClassifier\n",
    "from sklearn.discriminant_analysis import LinearDiscriminantAnalysis\n",
    "from sklearn.naive_bayes import GaussianNB\n",
    "from sklearn.svm import SVC\n",
    "from sklearn.externals import joblib"
   ]
  },
  {
   "cell_type": "code",
   "execution_count": 151,
   "metadata": {},
   "outputs": [],
   "source": [
    "seed      = 9\n",
    "scoring=\"accuracy\"\n",
    "results = []\n",
    "names   = []"
   ]
  },
  {
   "cell_type": "code",
   "execution_count": 154,
   "metadata": {},
   "outputs": [],
   "source": [
    "models = []\n",
    "models.append(('Logistic Regression', LogisticRegression(random_state=seed)))\n",
    "# models.append(('LDA', LinearDiscriminantAnalysis()))\n",
    "models.append(('KNN', KNeighborsClassifier()))\n",
    "models.append(('Decision Trees', DecisionTreeClassifier(random_state=seed)))\n",
    "models.append(('Random Forest', RandomForestClassifier(n_estimators=100, random_state=seed)))\n",
    "models.append(('Naive Bayes', GaussianNB()))\n",
    "models.append(('SVM', SVC(random_state=seed)))"
   ]
  },
  {
   "cell_type": "code",
   "execution_count": 157,
   "metadata": {},
   "outputs": [
    {
     "name": "stdout",
     "output_type": "stream",
     "text": [
      "Logistic Regression\n",
      "accuracy: 0.85\n",
      "f1 score: 0.67\n",
      "[[42  0]\n",
      " [ 9  9]]\n",
      "---------------------------------\n",
      "KNN\n",
      "accuracy: 0.7\n",
      "f1 score: 0.31\n",
      "[[38  4]\n",
      " [14  4]]\n",
      "---------------------------------\n",
      "Decision Trees\n",
      "accuracy: 0.65\n",
      "f1 score: 0.46\n",
      "[[30 12]\n",
      " [ 9  9]]\n",
      "---------------------------------\n",
      "Random Forest\n",
      "accuracy: 0.7333333333333333\n",
      "f1 score: 0.20\n",
      "[[42  0]\n",
      " [16  2]]\n",
      "---------------------------------\n",
      "Naive Bayes\n",
      "accuracy: 0.7\n",
      "f1 score: 0.50\n",
      "[[33  9]\n",
      " [ 9  9]]\n",
      "---------------------------------\n",
      "SVM\n",
      "accuracy: 0.7166666666666667\n",
      "f1 score: 0.11\n",
      "[[42  0]\n",
      " [17  1]]\n",
      "---------------------------------\n"
     ]
    }
   ],
   "source": [
    "# 10-fold cross validation\n",
    "import sklearn.metrics\n",
    "from sklearn.metrics import f1_score,accuracy_score\n",
    "for name, model in models:\n",
    "    model.fit(X_train, y_train)\n",
    "    Y_pred = model.predict(X_test)\n",
    "    print(name)\n",
    "    print(\"accuracy:\",accuracy_score(y_test, Y_pred))\n",
    "    f1 = f1_score(y_test, Y_pred,average='binary')\n",
    "    print(\"f1 score: {:.2f}\".format(f1))\n",
    "    print(confusion_matrix(y_test, Y_pred))\n",
    "    print('---------------------------------')\n",
    "    # boxplot algorithm comparison\n",
    "#     fig = pyplot.figure()\n",
    "#     fig.suptitle('Machine Learning algorithm comparison')\n",
    "#     ax = fig.add_subplot(111)\n",
    "#     pyplot.boxplot(results)\n",
    "#     ax.set_xticklabels(names)\n",
    "#     pyplot.show()\n"
   ]
  },
  {
   "cell_type": "code",
   "execution_count": 27,
   "metadata": {},
   "outputs": [
    {
     "data": {
      "text/plain": [
       "array([[39,  3],\n",
       "       [15,  3]])"
      ]
     },
     "execution_count": 27,
     "metadata": {},
     "output_type": "execute_result"
    }
   ],
   "source": [
    "from sklearn.ensemble import RandomForestClassifier\n",
    "rfc=RandomForestClassifier(n_estimators=15)\n",
    "modelrf=rfc.fit(X_train,y_train)\n",
    "predictionrf=modelrf.predict(X_test)\n",
    "confusion_matrix(y_test,predictionrf)"
   ]
  },
  {
   "cell_type": "code",
   "execution_count": 28,
   "metadata": {},
   "outputs": [
    {
     "name": "stdout",
     "output_type": "stream",
     "text": [
      "Accuracy:  0.7\n",
      "f1_score:  0.25\n"
     ]
    }
   ],
   "source": [
    "from sklearn.metrics import accuracy_score\n",
    "print('Accuracy: ',accuracy_score(y_test,predictionrf))\n",
    "print('f1_score: ',f1_score(y_test,predictionrf, average='binary'))"
   ]
  },
  {
   "cell_type": "code",
   "execution_count": 29,
   "metadata": {
    "scrolled": false
   },
   "outputs": [
    {
     "name": "stdout",
     "output_type": "stream",
     "text": [
      "Fitting 5 folds for each of 200 candidates, totalling 1000 fits\n"
     ]
    },
    {
     "name": "stderr",
     "output_type": "stream",
     "text": [
      "[Parallel(n_jobs=-1)]: Done  26 tasks      | elapsed:    6.4s\n",
      "[Parallel(n_jobs=-1)]: Done 1000 out of 1000 | elapsed:    7.5s finished\n"
     ]
    }
   ],
   "source": [
    "# Create first pipeline for base without reducing features.\n",
    "\n",
    "pipe = Pipeline([('classifier' , LogisticRegression())])\n",
    "# pipe = Pipeline([('classifier', RandomForestClassifier())])\n",
    "\n",
    "# Create param grid.\n",
    "\n",
    "param_grid = [\n",
    "    {'classifier' : [LogisticRegression()],\n",
    "     'classifier__penalty' : ['l1', 'l2'],\n",
    "    'classifier__C' : np.logspace(-1, 1, 100),\n",
    "#     'classifier__solver' : ['liblinear']}\n",
    "    }\n",
    "]\n",
    "\n",
    "# Create grid search object\n",
    "\n",
    "clf = GridSearchCV(pipe, param_grid = param_grid, cv = 5, verbose=True, n_jobs=-1)\n",
    "\n",
    "# Fit on data\n",
    "\n",
    "best_clf = clf.fit(X_train, y_train)"
   ]
  },
  {
   "cell_type": "code",
   "execution_count": 30,
   "metadata": {},
   "outputs": [
    {
     "data": {
      "text/plain": [
       "LogisticRegression(C=0.2104904144512021, class_weight=None, dual=False,\n",
       "          fit_intercept=True, intercept_scaling=1, max_iter=100,\n",
       "          multi_class='ovr', n_jobs=1, penalty='l2', random_state=None,\n",
       "          solver='liblinear', tol=0.0001, verbose=0, warm_start=False)"
      ]
     },
     "execution_count": 30,
     "metadata": {},
     "output_type": "execute_result"
    }
   ],
   "source": [
    "best_clf.best_estimator_.get_params()['classifier']"
   ]
  },
  {
   "cell_type": "code",
   "execution_count": 31,
   "metadata": {},
   "outputs": [
    {
     "data": {
      "text/plain": [
       "array([[41,  1],\n",
       "       [12,  6]])"
      ]
     },
     "execution_count": 31,
     "metadata": {},
     "output_type": "execute_result"
    }
   ],
   "source": [
    "predictionclf=best_clf.predict(X_test)\n",
    "from sklearn.metrics import confusion_matrix,accuracy_score\n",
    "cm=confusion_matrix(y_test,predictionclf)\n",
    "cm"
   ]
  },
  {
   "cell_type": "code",
   "execution_count": 32,
   "metadata": {},
   "outputs": [
    {
     "name": "stdout",
     "output_type": "stream",
     "text": [
      "Accuracy:  0.7833333333333333\n"
     ]
    }
   ],
   "source": [
    "print('Accuracy: ',accuracy_score(y_test,predictionclf))"
   ]
  },
  {
   "cell_type": "code",
   "execution_count": 33,
   "metadata": {},
   "outputs": [
    {
     "data": {
      "image/png": "[encoded data removed]",
      "text/plain": [
       "<matplotlib.figure.Figure at 0x26288c102e8>"
      ]
     },
     "metadata": {
      "needs_background": "light"
     },
     "output_type": "display_data"
    }
   ],
   "source": [
    "\n",
    "probs = best_clf.predict_proba(X_test)\n",
    "preds = probs[:,1]\n",
    "fpr, tpr, threshold = metrics.roc_curve(y_test, preds)\n",
    "roc_auc = metrics.auc(fpr, tpr)\n",
    "\n",
    "plt.figure()\n",
    "plt.plot(fpr, tpr, label='GridSearchCV (area = %0.2f)' % roc_auc)\n",
    "plt.plot([0, 1], [0, 1],'r--')\n",
    "plt.xlim([0.0, 1.0])\n",
    "plt.ylim([0.0, 1.05])\n",
    "plt.xlabel('False Positive Rate')\n",
    "plt.ylabel('True Positive Rate')\n",
    "plt.title('Receiver operating characteristic')\n",
    "plt.legend(loc=\"lower right\")\n",
    "plt.savefig('Log_ROC')\n",
    "plt.show()"
   ]
  },
  {
   "cell_type": "code",
   "execution_count": 34,
   "metadata": {},
   "outputs": [
    {
     "data": {
      "text/plain": [
       "0.835978835978836"
      ]
     },
     "execution_count": 34,
     "metadata": {},
     "output_type": "execute_result"
    }
   ],
   "source": [
    "roc_auc"
   ]
  },
  {
   "cell_type": "code",
   "execution_count": 35,
   "metadata": {},
   "outputs": [
    {
     "name": "stdout",
     "output_type": "stream",
     "text": [
      "f1_score:  0.48\n"
     ]
    }
   ],
   "source": [
    "print('f1_score: ',f1_score(y_test,predictionclf, average='binary'))"
   ]
  },
  {
   "cell_type": "code",
   "execution_count": 36,
   "metadata": {},
   "outputs": [],
   "source": [
    "# # \n",
    "# from sklearn.model_selection import train_test_split\n",
    "# X_train,X_test,y_train,y_test=train_test_split(X,y,test_size=0.3,random_state=123)"
   ]
  },
  {
   "cell_type": "code",
   "execution_count": 104,
   "metadata": {},
   "outputs": [
    {
     "name": "stdout",
     "output_type": "stream",
     "text": [
      "Fitting 5 folds for each of 200 candidates, totalling 1000 fits\n"
     ]
    },
    {
     "name": "stderr",
     "output_type": "stream",
     "text": [
      "[Parallel(n_jobs=-1)]: Done  26 tasks      | elapsed:    2.4s\n",
      "[Parallel(n_jobs=-1)]: Done 1000 out of 1000 | elapsed:    3.8s finished\n"
     ]
    },
    {
     "data": {
      "text/plain": [
       "LogisticRegression(C=6.892612104349698, class_weight=None, dual=False,\n",
       "          fit_intercept=True, intercept_scaling=1, max_iter=100,\n",
       "          multi_class='ovr', n_jobs=1, penalty='l1', random_state=None,\n",
       "          solver='liblinear', tol=0.0001, verbose=0, warm_start=False)"
      ]
     },
     "execution_count": 104,
     "metadata": {},
     "output_type": "execute_result"
    }
   ],
   "source": [
    "# Rerunning above with resampled data\n",
    "\n",
    "sm = SMOTE(random_state=2)\n",
    "X_train_res, y_train_res = sm.fit_sample(X_train, y_train.ravel())\n",
    "\n",
    "best_clf1 = clf.fit(X_train_res, y_train_res)\n",
    "best_clf1.best_estimator_.get_params()['classifier']"
   ]
  },
  {
   "cell_type": "code",
   "execution_count": 105,
   "metadata": {},
   "outputs": [
    {
     "data": {
      "text/plain": [
       "array([[35,  7],\n",
       "       [ 4, 14]])"
      ]
     },
     "execution_count": 105,
     "metadata": {},
     "output_type": "execute_result"
    }
   ],
   "source": [
    "predictionclf1=best_clf1.predict(X_test)\n",
    "from sklearn.metrics import confusion_matrix,accuracy_score\n",
    "cm=confusion_matrix(y_test,predictionclf1)\n",
    "cm"
   ]
  },
  {
   "cell_type": "code",
   "execution_count": 106,
   "metadata": {},
   "outputs": [
    {
     "name": "stdout",
     "output_type": "stream",
     "text": [
      "Accuracy:  0.8166666666666667\n"
     ]
    }
   ],
   "source": [
    "print('Accuracy: ',accuracy_score(y_test,predictionclf1))"
   ]
  },
  {
   "cell_type": "code",
   "execution_count": 107,
   "metadata": {},
   "outputs": [
    {
     "name": "stdout",
     "output_type": "stream",
     "text": [
      "f1_score:  0.717948717948718\n"
     ]
    }
   ],
   "source": [
    "print('f1_score: ',f1_score(y_test,predictionclf1, average='binary'))"
   ]
  },
  {
   "cell_type": "markdown",
   "metadata": {},
   "source": [
    "# ------------------------"
   ]
  },
  {
   "cell_type": "code",
   "execution_count": 46,
   "metadata": {},
   "outputs": [
    {
     "data": {
      "image/png": "[encoded data removed]",
      "text/plain": [
       "<matplotlib.figure.Figure at 0x26288c226a0>"
      ]
     },
     "metadata": {
      "needs_background": "light"
     },
     "output_type": "display_data"
    },
    {
     "data": {
      "image/png": "[encoded data removed]",
      "text/plain": [
       "<matplotlib.figure.Figure at 0x26288e3d518>"
      ]
     },
     "metadata": {
      "needs_background": "light"
     },
     "output_type": "display_data"
    }
   ],
   "source": [
    "# X=data.drop(['Outcome'],axis=1)\n",
    "# y=data['Outcome']\n",
    "smote=SMOTE()\n",
    "X_sm,y_sm=smote.fit_sample(X,y)\n",
    "plot_2d_space(X_sm,y_sm,'over')\n",
    "from sklearn.model_selection import train_test_split\n",
    "X_trainsm,X_testsm,y_trainsm,y_testsm=train_test_split(X_sm,y_sm,test_size=0.3,random_state=123)"
   ]
  },
  {
   "cell_type": "code",
   "execution_count": 47,
   "metadata": {},
   "outputs": [],
   "source": [
    "def plot_2d_space(X, y, label='Classes'):\n",
    "    colors = ['#1F77B4', '#FF7F0E']\n",
    "    markers = ['o', 's']\n",
    "    for l, c, m in zip(np.unique(y), colors, markers):\n",
    "        plt.scatter( \n",
    "            X[y==l, 0],\n",
    "            X[y==l, 1],\n",
    "            c=c, label=l, marker=m\n",
    "        )\n",
    "        plt.title(label) \n",
    "        plt.legend(loc='upper right')\n",
    "        plt.show()"
   ]
  },
  {
   "cell_type": "code",
   "execution_count": 48,
   "metadata": {},
   "outputs": [
    {
     "name": "stdout",
     "output_type": "stream",
     "text": [
      "Fitting 5 folds for each of 200 candidates, totalling 1000 fits\n"
     ]
    },
    {
     "name": "stderr",
     "output_type": "stream",
     "text": [
      "[Parallel(n_jobs=-1)]: Done  26 tasks      | elapsed:    2.4s\n",
      "[Parallel(n_jobs=-1)]: Done 1000 out of 1000 | elapsed:   13.5s finished\n"
     ]
    },
    {
     "data": {
      "text/plain": [
       "LogisticRegression(C=5.214008287999687, class_weight=None, dual=False,\n",
       "          fit_intercept=True, intercept_scaling=1, max_iter=100,\n",
       "          multi_class='ovr', n_jobs=1, penalty='l1', random_state=None,\n",
       "          solver='liblinear', tol=0.0001, verbose=0, warm_start=False)"
      ]
     },
     "execution_count": 48,
     "metadata": {},
     "output_type": "execute_result"
    }
   ],
   "source": [
    "best_clf1 = clf.fit(X_trainsm, y_trainsm)\n",
    "best_clf1.best_estimator_.get_params()['classifier']"
   ]
  },
  {
   "cell_type": "code",
   "execution_count": 49,
   "metadata": {},
   "outputs": [
    {
     "data": {
      "text/plain": [
       "array([[34, 12],\n",
       "       [ 7, 38]])"
      ]
     },
     "execution_count": 49,
     "metadata": {},
     "output_type": "execute_result"
    }
   ],
   "source": [
    "predictionclf1=best_clf1.predict(X_testsm)\n",
    "from sklearn.metrics import confusion_matrix,accuracy_score\n",
    "cm=confusion_matrix(y_testsm,predictionclf1)\n",
    "cm"
   ]
  },
  {
   "cell_type": "code",
   "execution_count": 76,
   "metadata": {},
   "outputs": [
    {
     "data": {
      "text/plain": [
       "0.7912087912087912"
      ]
     },
     "execution_count": 76,
     "metadata": {},
     "output_type": "execute_result"
    }
   ],
   "source": [
    "acc = accuracy_score(y_testsm,predictionclf1)\n",
    "acc"
   ]
  },
  {
   "cell_type": "code",
   "execution_count": 69,
   "metadata": {},
   "outputs": [],
   "source": [
    "    (unique, counts) = np.unique(y_sm, return_counts=True)"
   ]
  },
  {
   "cell_type": "code",
   "execution_count": 71,
   "metadata": {},
   "outputs": [],
   "source": [
    "frequencies = np.asarray((unique, counts)).T"
   ]
  },
  {
   "cell_type": "code",
   "execution_count": 72,
   "metadata": {},
   "outputs": [
    {
     "data": {
      "text/plain": [
       "array([[  0, 151],\n",
       "       [  1, 151]], dtype=int64)"
      ]
     },
     "execution_count": 72,
     "metadata": {},
     "output_type": "execute_result"
    }
   ],
   "source": [
    "frequencies"
   ]
  },
  {
   "cell_type": "code",
   "execution_count": 73,
   "metadata": {},
   "outputs": [
    {
     "data": {
      "text/plain": [
       "array([[  0, 151],\n",
       "       [  1,  47]], dtype=int64)"
      ]
     },
     "execution_count": 73,
     "metadata": {},
     "output_type": "execute_result"
    }
   ],
   "source": [
    "(unique, counts) = np.unique(y, return_counts=True)\n",
    "frequencies = np.asarray((unique, counts)).T\n",
    "frequencies"
   ]
  },
  {
   "cell_type": "code",
   "execution_count": 90,
   "metadata": {},
   "outputs": [
    {
     "data": {
      "text/plain": [
       "array([[ 9.36274098, 18.39562168, 19.34430845, ...,  0.08724166,\n",
       "         3.66241267,  2.04411147],\n",
       "       [ 5.        , 15.08      , 25.74      , ...,  0.09438   ,\n",
       "         2.6       ,  0.        ],\n",
       "       [54.        , 20.64      , 17.35      , ...,  0.07055   ,\n",
       "         4.        ,  0.        ],\n",
       "       ...,\n",
       "       [10.        , 21.16      , 23.04      , ...,  0.07526   ,\n",
       "         4.        ,  1.        ],\n",
       "       [12.88455971, 23.98731008, 20.65421266, ...,  0.06770957,\n",
       "         3.17307529,  4.        ],\n",
       "       [67.        , 20.51      , 27.81      , ...,  0.08328   ,\n",
       "         9.        , 24.        ]])"
      ]
     },
     "execution_count": 90,
     "metadata": {},
     "output_type": "execute_result"
    }
   ],
   "source": [
    "X_trainsm\n"
   ]
  },
  {
   "cell_type": "code",
   "execution_count": 91,
   "metadata": {},
   "outputs": [
    {
     "data": {
      "text/plain": [
       "array([1, 1, 0, 1, 0, 1, 0, 0, 1, 1, 1, 1, 0, 0, 0, 1, 1, 0, 1, 0, 1, 0,\n",
       "       0, 1, 0, 0, 1, 0, 1, 1, 1, 1, 1, 1, 0, 0, 1, 1, 0, 1, 0, 1, 1, 1,\n",
       "       0, 1, 1, 0, 1, 1, 1, 1, 0, 0, 0, 1, 1, 0, 0, 1, 1, 0, 1, 1, 1, 1,\n",
       "       1, 1, 1, 0, 0, 0, 0, 0, 0, 1, 1, 0, 0, 1, 0, 0, 0, 0, 1, 0, 1, 0,\n",
       "       1, 1, 0, 0, 0, 1, 1, 1, 1, 1, 0, 0, 1, 0, 0, 1, 1, 1, 1, 1, 1, 0,\n",
       "       0, 0, 1, 0, 1, 0, 1, 0, 1, 0, 1, 0, 0, 0, 0, 1, 0, 1, 0, 0, 0, 0,\n",
       "       1, 1, 1, 1, 1, 0, 1, 0, 0, 1, 0, 0, 1, 1, 1, 1, 1, 0, 0, 0, 0, 1,\n",
       "       0, 0, 0, 1, 1, 0, 0, 0, 0, 0, 1, 1, 1, 1, 1, 0, 0, 1, 0, 1, 0, 1,\n",
       "       0, 1, 0, 0, 0, 1, 0, 0, 1, 1, 1, 0, 1, 0, 0, 1, 1, 1, 0, 1, 0, 0,\n",
       "       0, 0, 0, 0, 1, 1, 0, 0, 0, 0, 1, 1, 0], dtype=int64)"
      ]
     },
     "execution_count": 91,
     "metadata": {},
     "output_type": "execute_result"
    }
   ],
   "source": [
    "y_trainsm"
   ]
  },
  {
   "cell_type": "code",
   "execution_count": 133,
   "metadata": {},
   "outputs": [],
   "source": [
    "from keras.models import Sequential\n",
    "from keras.layers import Dense"
   ]
  },
  {
   "cell_type": "code",
   "execution_count": 134,
   "metadata": {},
   "outputs": [],
   "source": [
    "model = Sequential()\n",
    "model.add(Dense(16, input_dim=33, activation='relu'))\n",
    "model.add(Dense(8, activation='relu'))\n",
    "model.add(Dense(1, activation='sigmoid'))"
   ]
  },
  {
   "cell_type": "code",
   "execution_count": 135,
   "metadata": {},
   "outputs": [],
   "source": [
    "model.compile(loss='binary_crossentropy', optimizer='adam', metrics=['accuracy'])"
   ]
  },
  {
   "cell_type": "code",
   "execution_count": 136,
   "metadata": {},
   "outputs": [
    {
     "name": "stdout",
     "output_type": "stream",
     "text": [
      "Train on 174 samples, validate on 44 samples\n",
      "Epoch 1/15\n",
      "174/174 [==============================] - 0s - loss: 0.6883 - acc: 0.5632 - val_loss: 0.8584 - val_acc: 0.0000e+00\n",
      "Epoch 2/15\n",
      "174/174 [==============================] - 0s - loss: 0.6568 - acc: 0.6149 - val_loss: 0.8402 - val_acc: 0.0455\n",
      "Epoch 3/15\n",
      "174/174 [==============================] - 0s - loss: 0.6361 - acc: 0.6724 - val_loss: 0.7818 - val_acc: 0.4091\n",
      "Epoch 4/15\n",
      "174/174 [==============================] - 0s - loss: 0.6110 - acc: 0.7126 - val_loss: 0.7324 - val_acc: 0.5000\n",
      "Epoch 5/15\n",
      "174/174 [==============================] - 0s - loss: 0.5916 - acc: 0.7299 - val_loss: 0.7201 - val_acc: 0.5000\n",
      "Epoch 6/15\n",
      "174/174 [==============================] - 0s - loss: 0.5743 - acc: 0.7414 - val_loss: 0.6793 - val_acc: 0.5455\n",
      "Epoch 7/15\n",
      "174/174 [==============================] - 0s - loss: 0.5565 - acc: 0.7759 - val_loss: 0.6636 - val_acc: 0.5682\n",
      "Epoch 8/15\n",
      "174/174 [==============================] - 0s - loss: 0.5410 - acc: 0.7816 - val_loss: 0.6574 - val_acc: 0.6364\n",
      "Epoch 9/15\n",
      "174/174 [==============================] - 0s - loss: 0.5250 - acc: 0.8103 - val_loss: 0.6395 - val_acc: 0.6364\n",
      "Epoch 10/15\n",
      "174/174 [==============================] - 0s - loss: 0.5094 - acc: 0.8333 - val_loss: 0.6334 - val_acc: 0.6591\n",
      "Epoch 11/15\n",
      "174/174 [==============================] - 0s - loss: 0.4940 - acc: 0.8391 - val_loss: 0.6162 - val_acc: 0.6591\n",
      "Epoch 12/15\n",
      "174/174 [==============================] - 0s - loss: 0.4801 - acc: 0.8391 - val_loss: 0.5888 - val_acc: 0.6591\n",
      "Epoch 13/15\n",
      "174/174 [==============================] - 0s - loss: 0.4627 - acc: 0.8506 - val_loss: 0.5759 - val_acc: 0.6591\n",
      "Epoch 14/15\n",
      "174/174 [==============================] - 0s - loss: 0.4471 - acc: 0.8736 - val_loss: 0.5701 - val_acc: 0.6591\n",
      "Epoch 15/15\n",
      "174/174 [==============================] - 0s - loss: 0.4300 - acc: 0.8736 - val_loss: 0.5467 - val_acc: 0.6591\n"
     ]
    },
    {
     "data": {
      "text/plain": [
       "<keras.callbacks.History at 0x26291743a20>"
      ]
     },
     "execution_count": 136,
     "metadata": {},
     "output_type": "execute_result"
    }
   ],
   "source": [
    "model.fit(X_train_res, y_train_res, epochs=15, batch_size=10,validation_split=0.2)"
   ]
  },
  {
   "cell_type": "code",
   "execution_count": 137,
   "metadata": {},
   "outputs": [
    {
     "name": "stdout",
     "output_type": "stream",
     "text": [
      "32/60 [===============>..............] - ETA: 0sAccuracy: 73.33\n"
     ]
    }
   ],
   "source": [
    "_, accuracy = model.evaluate(X_test, y_test)\n",
    "print('Accuracy: %.2f' % (accuracy*100))"
   ]
  },
  {
   "cell_type": "code",
   "execution_count": 138,
   "metadata": {},
   "outputs": [],
   "source": [
    "ypred = model.predict(X_test)\n",
    "ypred = ypred.tolist()\n",
    "# print(ypred)\n",
    "ypred = [1.0 if i[0]>0.5 else 0 for i in ypred]"
   ]
  },
  {
   "cell_type": "code",
   "execution_count": 139,
   "metadata": {},
   "outputs": [],
   "source": [
    "cm = confusion_matrix(y_test,ypred)"
   ]
  },
  {
   "cell_type": "code",
   "execution_count": 140,
   "metadata": {},
   "outputs": [
    {
     "data": {
      "text/plain": [
       "array([[36,  6],\n",
       "       [10,  8]])"
      ]
     },
     "execution_count": 140,
     "metadata": {},
     "output_type": "execute_result"
    }
   ],
   "source": [
    "cm"
   ]
  },
  {
   "cell_type": "code",
   "execution_count": 141,
   "metadata": {},
   "outputs": [
    {
     "data": {
      "text/plain": [
       "0.5"
      ]
     },
     "execution_count": 141,
     "metadata": {},
     "output_type": "execute_result"
    }
   ],
   "source": [
    "f1_score(y_test,ypred)"
   ]
  },
  {
   "cell_type": "code",
   "execution_count": null,
   "metadata": {},
   "outputs": [],
   "source": []
  }
 ],
 "metadata": {
  "kernelspec": {
   "display_name": "Python 3",
   "language": "python",
   "name": "python3"
  },
  "language_info": {
   "codemirror_mode": {
    "name": "ipython",
    "version": 3
   },
   "file_extension": ".py",
   "mimetype": "text/x-python",
   "name": "python",
   "nbconvert_exporter": "python",
   "pygments_lexer": "ipython3",
   "version": "3.5.6"
  }
 },
 "nbformat": 4,
 "nbformat_minor": 2
}
